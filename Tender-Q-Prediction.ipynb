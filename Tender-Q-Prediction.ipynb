{
  "cells": [
    {
      "cell_type": "code",
      "execution_count": 1,
      "metadata": {
        "jupyter": {
          "outputs_hidden": false,
          "source_hidden": false
        },
        "nteract": {
          "transient": {
            "deleting": false
          }
        }
      },
      "outputs": [],
      "source": [
        "from azure.quantum import Workspace\n",
        "workspace = Workspace (\n",
        "   resource_id = \"/subscriptions/8f5de5cb-da38-4417-990e-457c3292608e/resourceGroups/bitsdemo-new/providers/Microsoft.Quantum/Workspaces/bitsdemonew\",\n",
        "   location = \"eastus\"\n",
        ")\n"
      ]
    },
    {
      "cell_type": "code",
      "execution_count": 2,
      "metadata": {
        "jupyter": {
          "outputs_hidden": false,
          "source_hidden": false
        },
        "nteract": {
          "transient": {
            "deleting": false
          }
        }
      },
      "outputs": [],
      "source": [
        "from qiskit import *\n",
        "from qiskit.utils import QuantumInstance"
      ]
    },
    {
      "cell_type": "code",
      "execution_count": 2,
      "metadata": {
        "jupyter": {
          "outputs_hidden": false,
          "source_hidden": false
        },
        "nteract": {
          "transient": {
            "deleting": false
          }
        }
      },
      "outputs": [],
      "source": [
        "# Import necesary packages\n",
        "# ! pip install imbalanced-learn\n",
        "# ! pip install lazypredict\n",
        "# ! pip install qiskit\n",
        "# ! pip install qiskit-machine-learning\n",
        "import numpy as np\n",
        "import pandas as pd\n",
        "\n",
        "\n"
      ]
    },
    {
      "cell_type": "code",
      "execution_count": 4,
      "metadata": {
        "jupyter": {
          "outputs_hidden": false,
          "source_hidden": false
        },
        "nteract": {
          "transient": {
            "deleting": false
          }
        }
      },
      "outputs": [],
      "source": [
        "from azure.quantum.qiskit import AzureQuantumProvider\n",
        "provider = AzureQuantumProvider(\n",
        "  resource_id=\"/subscriptions/8f5de5cb-da38-4417-990e-457c3292608e/resourceGroups/bitsdemo-new/providers/Microsoft.Quantum/Workspaces/bitsdemonew\",\n",
        "  location=\"eastus\"\n",
        ")\n",
        "\n",
        "# Create IonQ simulator and QPU backends\n",
        "ionq_simulator_backend = provider.get_backend(\"ionq.simulator\")\n",
        "ionq_qpu_backend = provider.get_backend(\"ionq.qpu.aria-1\")\n",
        "\n",
        "# Create Rigetti simulator and QPU backends\n",
        "rigetti_simulator_backend = provider.get_backend(\"rigetti.sim.qvm\")\n",
        "rigetti_qpu_backend = provider.get_backend(\"rigetti.qpu.aspen-m-3\")\n",
        "\n",
        "# Create Quantinuum simulator and QPU backends\n",
        "quantinuum_simulator_backend = provider.get_backend(\"quantinuum.sim.h1-2sc\")\n",
        "quantinuum_qpu_backend = provider.get_backend(\"quantinuum.qpu.h1-2\")\n",
        "\n",
        "# Set your backend of choice\n",
        "backend = quantinuum_simulator_backend"
      ]
    },
    {
      "cell_type": "code",
      "execution_count": 5,
      "metadata": {
        "jupyter": {
          "outputs_hidden": false,
          "source_hidden": false
        },
        "nteract": {
          "transient": {
            "deleting": false
          }
        }
      },
      "outputs": [],
      "source": [
        "from qiskit.algorithms.optimizers import COBYLA\n",
        "from qiskit.circuit.library import TwoLocal, ZZFeatureMap\n",
        "from qiskit.utils import algorithm_globals\n",
        "\n",
        "from qiskit_machine_learning.algorithms import VQC"
      ]
    },
    {
      "cell_type": "code",
      "execution_count": 3,
      "metadata": {},
      "outputs": [],
      "source": [
        "# read the Cleaned up MAWS Department CSV\n",
        "df = pd.read_csv('https://raw.githubusercontent.com/karthikeyanVK/MAWSPredictionModel/main/maws-cleaned.csv')"
      ]
    },
    {
      "cell_type": "code",
      "execution_count": 4,
      "metadata": {},
      "outputs": [
        {
          "data": {
            "text/html": [
              "<div>\n",
              "<style scoped>\n",
              "    .dataframe tbody tr th:only-of-type {\n",
              "        vertical-align: middle;\n",
              "    }\n",
              "\n",
              "    .dataframe tbody tr th {\n",
              "        vertical-align: top;\n",
              "    }\n",
              "\n",
              "    .dataframe thead th {\n",
              "        text-align: right;\n",
              "    }\n",
              "</style>\n",
              "<table border=\"1\" class=\"dataframe\">\n",
              "  <thead>\n",
              "    <tr style=\"text-align: right;\">\n",
              "      <th></th>\n",
              "      <th>projectValue</th>\n",
              "      <th>startDate_delay</th>\n",
              "      <th>technicalSanctionDate_delay</th>\n",
              "      <th>tenderAnnounced_delay</th>\n",
              "      <th>technicalBidFinalized_delay</th>\n",
              "      <th>priceBidFinalized_delay</th>\n",
              "      <th>workOrderIssued_delay</th>\n",
              "      <th>agreementDate_delay</th>\n",
              "      <th>workCommenced_delay</th>\n",
              "      <th>works25CompletedDate_delay</th>\n",
              "      <th>...</th>\n",
              "      <th>Name_of_Commissioner_MAWS Vaniyambadi</th>\n",
              "      <th>Name_of_Commissioner_MAWS Vedaranyam</th>\n",
              "      <th>Name_of_Commissioner_MAWS Vellakovil</th>\n",
              "      <th>Name_of_Commissioner_MAWS Vikramasingarapuram</th>\n",
              "      <th>Name_of_Commissioner_MAWS Villupuram</th>\n",
              "      <th>Name_of_Commissioner_MAWS Virudhachalam</th>\n",
              "      <th>Name_of_Commissioner_MAWS Virudhunagar</th>\n",
              "      <th>Name_of_Commissioner_MAWS Walajapet</th>\n",
              "      <th>projectGrade_B</th>\n",
              "      <th>projectGrade_C</th>\n",
              "    </tr>\n",
              "  </thead>\n",
              "  <tbody>\n",
              "    <tr>\n",
              "      <th>0</th>\n",
              "      <td>180000.0</td>\n",
              "      <td>0</td>\n",
              "      <td>-15.0</td>\n",
              "      <td>0.0</td>\n",
              "      <td>-12.0</td>\n",
              "      <td>-3.0</td>\n",
              "      <td>5.0</td>\n",
              "      <td>-7.0</td>\n",
              "      <td>76.0</td>\n",
              "      <td>-14.0</td>\n",
              "      <td>...</td>\n",
              "      <td>0</td>\n",
              "      <td>0</td>\n",
              "      <td>0</td>\n",
              "      <td>0</td>\n",
              "      <td>0</td>\n",
              "      <td>0</td>\n",
              "      <td>0</td>\n",
              "      <td>0</td>\n",
              "      <td>0</td>\n",
              "      <td>1</td>\n",
              "    </tr>\n",
              "    <tr>\n",
              "      <th>1</th>\n",
              "      <td>400000.0</td>\n",
              "      <td>0</td>\n",
              "      <td>-30.0</td>\n",
              "      <td>-3.0</td>\n",
              "      <td>-12.0</td>\n",
              "      <td>-3.0</td>\n",
              "      <td>-3.0</td>\n",
              "      <td>-7.0</td>\n",
              "      <td>-7.0</td>\n",
              "      <td>-11.0</td>\n",
              "      <td>...</td>\n",
              "      <td>0</td>\n",
              "      <td>0</td>\n",
              "      <td>0</td>\n",
              "      <td>0</td>\n",
              "      <td>0</td>\n",
              "      <td>0</td>\n",
              "      <td>0</td>\n",
              "      <td>0</td>\n",
              "      <td>0</td>\n",
              "      <td>1</td>\n",
              "    </tr>\n",
              "    <tr>\n",
              "      <th>2</th>\n",
              "      <td>3000000.0</td>\n",
              "      <td>0</td>\n",
              "      <td>10.0</td>\n",
              "      <td>110.0</td>\n",
              "      <td>-20.0</td>\n",
              "      <td>0.0</td>\n",
              "      <td>-3.0</td>\n",
              "      <td>-7.0</td>\n",
              "      <td>9.0</td>\n",
              "      <td>223.0</td>\n",
              "      <td>...</td>\n",
              "      <td>0</td>\n",
              "      <td>0</td>\n",
              "      <td>0</td>\n",
              "      <td>0</td>\n",
              "      <td>0</td>\n",
              "      <td>0</td>\n",
              "      <td>0</td>\n",
              "      <td>0</td>\n",
              "      <td>0</td>\n",
              "      <td>1</td>\n",
              "    </tr>\n",
              "    <tr>\n",
              "      <th>3</th>\n",
              "      <td>8055000.0</td>\n",
              "      <td>0</td>\n",
              "      <td>6.0</td>\n",
              "      <td>5.0</td>\n",
              "      <td>-15.0</td>\n",
              "      <td>-2.0</td>\n",
              "      <td>6.0</td>\n",
              "      <td>-7.0</td>\n",
              "      <td>24.0</td>\n",
              "      <td>24.0</td>\n",
              "      <td>...</td>\n",
              "      <td>0</td>\n",
              "      <td>0</td>\n",
              "      <td>0</td>\n",
              "      <td>0</td>\n",
              "      <td>0</td>\n",
              "      <td>0</td>\n",
              "      <td>0</td>\n",
              "      <td>0</td>\n",
              "      <td>1</td>\n",
              "      <td>0</td>\n",
              "    </tr>\n",
              "    <tr>\n",
              "      <th>4</th>\n",
              "      <td>300000.0</td>\n",
              "      <td>0</td>\n",
              "      <td>0.0</td>\n",
              "      <td>-3.0</td>\n",
              "      <td>-20.0</td>\n",
              "      <td>-3.0</td>\n",
              "      <td>15.0</td>\n",
              "      <td>-7.0</td>\n",
              "      <td>-6.0</td>\n",
              "      <td>-22.0</td>\n",
              "      <td>...</td>\n",
              "      <td>0</td>\n",
              "      <td>0</td>\n",
              "      <td>0</td>\n",
              "      <td>0</td>\n",
              "      <td>0</td>\n",
              "      <td>0</td>\n",
              "      <td>0</td>\n",
              "      <td>0</td>\n",
              "      <td>0</td>\n",
              "      <td>1</td>\n",
              "    </tr>\n",
              "  </tbody>\n",
              "</table>\n",
              "<p>5 rows × 270 columns</p>\n",
              "</div>"
            ],
            "text/plain": [
              "   projectValue  startDate_delay  technicalSanctionDate_delay  \\\n",
              "0      180000.0                0                        -15.0   \n",
              "1      400000.0                0                        -30.0   \n",
              "2     3000000.0                0                         10.0   \n",
              "3     8055000.0                0                          6.0   \n",
              "4      300000.0                0                          0.0   \n",
              "\n",
              "   tenderAnnounced_delay  technicalBidFinalized_delay  \\\n",
              "0                    0.0                        -12.0   \n",
              "1                   -3.0                        -12.0   \n",
              "2                  110.0                        -20.0   \n",
              "3                    5.0                        -15.0   \n",
              "4                   -3.0                        -20.0   \n",
              "\n",
              "   priceBidFinalized_delay  workOrderIssued_delay  agreementDate_delay  \\\n",
              "0                     -3.0                    5.0                 -7.0   \n",
              "1                     -3.0                   -3.0                 -7.0   \n",
              "2                      0.0                   -3.0                 -7.0   \n",
              "3                     -2.0                    6.0                 -7.0   \n",
              "4                     -3.0                   15.0                 -7.0   \n",
              "\n",
              "   workCommenced_delay  works25CompletedDate_delay  ...  \\\n",
              "0                 76.0                       -14.0  ...   \n",
              "1                 -7.0                       -11.0  ...   \n",
              "2                  9.0                       223.0  ...   \n",
              "3                 24.0                        24.0  ...   \n",
              "4                 -6.0                       -22.0  ...   \n",
              "\n",
              "   Name_of_Commissioner_MAWS Vaniyambadi  \\\n",
              "0                                      0   \n",
              "1                                      0   \n",
              "2                                      0   \n",
              "3                                      0   \n",
              "4                                      0   \n",
              "\n",
              "   Name_of_Commissioner_MAWS Vedaranyam  Name_of_Commissioner_MAWS Vellakovil  \\\n",
              "0                                     0                                     0   \n",
              "1                                     0                                     0   \n",
              "2                                     0                                     0   \n",
              "3                                     0                                     0   \n",
              "4                                     0                                     0   \n",
              "\n",
              "   Name_of_Commissioner_MAWS Vikramasingarapuram  \\\n",
              "0                                              0   \n",
              "1                                              0   \n",
              "2                                              0   \n",
              "3                                              0   \n",
              "4                                              0   \n",
              "\n",
              "   Name_of_Commissioner_MAWS Villupuram  \\\n",
              "0                                     0   \n",
              "1                                     0   \n",
              "2                                     0   \n",
              "3                                     0   \n",
              "4                                     0   \n",
              "\n",
              "   Name_of_Commissioner_MAWS Virudhachalam  \\\n",
              "0                                        0   \n",
              "1                                        0   \n",
              "2                                        0   \n",
              "3                                        0   \n",
              "4                                        0   \n",
              "\n",
              "   Name_of_Commissioner_MAWS Virudhunagar  \\\n",
              "0                                       0   \n",
              "1                                       0   \n",
              "2                                       0   \n",
              "3                                       0   \n",
              "4                                       0   \n",
              "\n",
              "   Name_of_Commissioner_MAWS Walajapet  projectGrade_B  projectGrade_C  \n",
              "0                                    0               0               1  \n",
              "1                                    0               0               1  \n",
              "2                                    0               0               1  \n",
              "3                                    0               1               0  \n",
              "4                                    0               0               1  \n",
              "\n",
              "[5 rows x 270 columns]"
            ]
          },
          "execution_count": 4,
          "metadata": {},
          "output_type": "execute_result"
        }
      ],
      "source": [
        "df.head()"
      ]
    },
    {
      "cell_type": "code",
      "execution_count": 5,
      "metadata": {},
      "outputs": [],
      "source": [
        "# https://towardsdatascience.com/building-a-logistic-regression-in-python-step-by-step-becd4d56c9c8\n",
        "df = df.replace(np.nan, 0,regex=True)\n",
        "df.fillna(0)\n",
        "\n",
        "from sklearn.model_selection import train_test_split\n",
        "X = df.loc[:, df.columns != 'delayed']\n",
        "y = df.loc[:, df.columns == 'delayed']\n",
        "\n",
        "X.head()\n",
        "\n",
        "y = np.nan_to_num(y).ravel() \n",
        "\n",
        "X_train, X_test, y_train, y_test = train_test_split(X, y, test_size=0.3, random_state=0)\n",
        "columns = X_train.columns\n"
      ]
    },
    {
      "cell_type": "code",
      "execution_count": 6,
      "metadata": {
        "jupyter": {
          "outputs_hidden": false,
          "source_hidden": false
        },
        "nteract": {
          "transient": {
            "deleting": false
          }
        }
      },
      "outputs": [],
      "source": [
        "\n",
        "from qiskit.circuit.library import ZZFeatureMap\n",
        "from qiskit.algorithms.optimizers import SPSA\n",
        "from qiskit import Aer\n",
        "from qiskit.circuit.library import TwoLocal\n",
        "from qiskit_machine_learning.algorithms import VQC\n",
        "\n",
        "\n",
        "# Load dataset\n",
        "feature_dim = X_train.shape[1]\n",
        "\n",
        "# feature_map = ZZFeatureMap(feature_dimension=feature_dim, reps=2)\n",
        "# var_form = TwoLocal(rotation_blocks='ry', entanglement_blocks='cz')\n",
        "# feature_map = feature_map.compose(var_form)\n"
      ]
    },
    {
      "cell_type": "code",
      "execution_count": null,
      "metadata": {},
      "outputs": [],
      "source": [
        "# # Create a VQC instance with the SPSA optimizer and the feature map\n",
        "# vqc = VQC(optimizer=SPSA(maxiter=100), feature_map=feature_map,quantum_instance=QuantumInstance(backend))\n",
        "\n"
      ]
    },
    {
      "cell_type": "code",
      "execution_count": 7,
      "metadata": {
        "jupyter": {
          "outputs_hidden": false,
          "source_hidden": false
        },
        "nteract": {
          "transient": {
            "deleting": false
          }
        }
      },
      "outputs": [
        {
          "name": "stderr",
          "output_type": "stream",
          "text": [
            "/tmp/ipykernel_7021/2517815466.py:3: DeprecationWarning: The quantum_instance argument is deprecated as of version 0.5.0 and will be removed no sooner than 3 months after the release. Instead use the sampler argument.\n",
            "  vqc = VQC(\n"
          ]
        }
      ],
      "source": [
        "feature_map = ZZFeatureMap(feature_dimension=feature_dim, reps=2, entanglement=\"linear\")\n",
        "ansatz = TwoLocal(feature_map.num_qubits, [\"ry\", \"rz\"], \"cz\", reps=3)\n",
        "vqc = VQC(\n",
        "    feature_map=feature_map,\n",
        "    ansatz=ansatz,\n",
        "    optimizer=COBYLA(maxiter=100),\n",
        "    quantum_instance=QuantumInstance(backend),\n",
        ")\n"
      ]
    },
    {
      "cell_type": "code",
      "execution_count": 8,
      "metadata": {
        "jupyter": {
          "outputs_hidden": false,
          "source_hidden": false
        },
        "nteract": {
          "transient": {
            "deleting": false
          }
        }
      },
      "outputs": [
        {
          "name": "stdout",
          "output_type": "stream",
          "text": [
            "..............................................................."
          ]
        }
      ],
      "source": [
        "vqc.fit(X_train, X_test)\n",
        "\n",
        "score = vqc.score(y_train, y_test)\n"
      ]
    },
    {
      "cell_type": "code",
      "execution_count": null,
      "metadata": {
        "jupyter": {
          "outputs_hidden": false,
          "source_hidden": false
        },
        "nteract": {
          "transient": {
            "deleting": false
          }
        }
      },
      "outputs": [],
      "source": [
        "print(f\"Testing accuracy: {score:0.2f}\")"
      ]
    }
  ],
  "metadata": {
    "kernel_info": {
      "name": "python3"
    },
    "kernelspec": {
      "display_name": "Python 3 (ipykernel)",
      "language": "python",
      "name": "python3"
    },
    "language_info": {
      "codemirror_mode": {
        "name": "ipython",
        "version": 3
      },
      "file_extension": ".py",
      "mimetype": "text/x-python",
      "name": "python",
      "nbconvert_exporter": "python",
      "pygments_lexer": "ipython3",
      "version": "3.9.13"
    },
    "nteract": {
      "version": "nteract-front-end@1.0.0"
    }
  },
  "nbformat": 4,
  "nbformat_minor": 0
}
